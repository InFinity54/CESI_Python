{
 "cells": [
  {
   "cell_type": "markdown",
   "metadata": {},
   "source": [
    "# Les classes d'objets en Python"
   ]
  },
  {
   "cell_type": "code",
   "execution_count": 19,
   "metadata": {},
   "outputs": [],
   "source": [
    "class Humain:\n",
    "    def __init__(self, dateNaissance):\n",
    "        self.DateNaissance = dateNaissance\n",
    "    \n",
    "    def show(self):\n",
    "        print(self.DateNaissance)"
   ]
  },
  {
   "cell_type": "code",
   "execution_count": 20,
   "metadata": {},
   "outputs": [],
   "source": [
    "class Francais(Humain): # La classe Francais hérite de la classe Humain\n",
    "    def SetNationality(self, nationality):\n",
    "        self.Nationality = nationality"
   ]
  },
  {
   "cell_type": "code",
   "execution_count": 21,
   "metadata": {},
   "outputs": [],
   "source": [
    "class Lorrain(Francais): # La classe Lorrain hérite de la classe Francais, qui hérite elle-même que la classe Humain\n",
    "    def SetLanguage(self, dialecte):\n",
    "        self.Dialecte = dialecte"
   ]
  },
  {
   "cell_type": "code",
   "execution_count": 22,
   "metadata": {},
   "outputs": [
    {
     "name": "stdout",
     "output_type": "stream",
     "text": [
      "18/09/1998\n",
      "Français\n"
     ]
    }
   ],
   "source": [
    "Coco = Lorrain(\"18/09/1998\")\n",
    "Coco.show()\n",
    "Coco.SetNationality(\"Français\")\n",
    "Coco.SetLanguage(\"Français\")\n",
    "print(Coco.Dialecte)"
   ]
  },
  {
   "cell_type": "code",
   "execution_count": 23,
   "metadata": {},
   "outputs": [],
   "source": [
    "class bcolors:\n",
    "    HEADER = '\\033[95m'\n",
    "    OKBLUE = '\\033[94m'\n",
    "    OKGREEN = '\\033[90m'\n",
    "    WARNING = '\\033[93m'\n",
    "    FAIL = '\\033[91m'\n",
    "    ENDC = '\\033[0m'\n",
    "    BOLD = '\\033[1m'\n",
    "    UNDERLINE = '\\033[4m'"
   ]
  },
  {
   "cell_type": "code",
   "execution_count": 28,
   "metadata": {},
   "outputs": [
    {
     "name": "stdout",
     "output_type": "stream",
     "text": [
      "\u001b[91mATTENTION : Ceci est un message coloré en rouge.\n",
      "\u001b[93mATTENTION : Ceci est un message coloré en jaune.\n",
      "\u001b[94mATTENTION : Ceci est un message coloré en bleu.\n"
     ]
    }
   ],
   "source": [
    "print(bcolors.FAIL + \"ATTENTION : Ceci est un message coloré en rouge.\")\n",
    "print(bcolors.WARNING + \"ATTENTION : Ceci est un message coloré en jaune.\")\n",
    "print(bcolors.OKBLUE + \"ATTENTION : Ceci est un message coloré en bleu.\")"
   ]
  },
  {
   "cell_type": "code",
   "execution_count": 34,
   "metadata": {},
   "outputs": [
    {
     "name": "stdout",
     "output_type": "stream",
     "text": [
      "0.3475992486664692\n",
      "a\n",
      "a\n",
      "a\n",
      "c\n",
      "b\n",
      "c\n",
      "c\n",
      "a\n",
      "a\n"
     ]
    }
   ],
   "source": [
    "import random\n",
    "nbr = random.random() # nombre aléatoire\n",
    "print(nbr)\n",
    "print(random.choice([\"a\", \"b\", \"c\"])) # aléatoire sur une liste\n",
    "print(random.choice([\"a\", \"b\", \"c\"]))\n",
    "print(random.choice([\"a\", \"b\", \"c\"]))\n",
    "print(random.choice([\"a\", \"b\", \"c\"]))\n",
    "print(random.choice([\"a\", \"b\", \"c\"]))\n",
    "print(random.choice([\"a\", \"b\", \"c\"]))\n",
    "print(random.choice([\"a\", \"b\", \"c\"]))\n",
    "print(random.choice([\"a\", \"b\", \"c\"]))\n",
    "print(random.choice([\"a\", \"b\", \"c\"]))"
   ]
  },
  {
   "cell_type": "code",
   "execution_count": null,
   "metadata": {},
   "outputs": [],
   "source": []
  },
  {
   "cell_type": "code",
   "execution_count": null,
   "metadata": {},
   "outputs": [],
   "source": []
  }
 ],
 "metadata": {
  "kernelspec": {
   "display_name": "Python 3",
   "language": "python",
   "name": "python3"
  },
  "language_info": {
   "codemirror_mode": {
    "name": "ipython",
    "version": 3
   },
   "file_extension": ".py",
   "mimetype": "text/x-python",
   "name": "python",
   "nbconvert_exporter": "python",
   "pygments_lexer": "ipython3",
   "version": "3.8.5"
  }
 },
 "nbformat": 4,
 "nbformat_minor": 4
}

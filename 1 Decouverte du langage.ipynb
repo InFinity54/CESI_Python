{
 "cells": [
  {
   "cell_type": "markdown",
   "metadata": {},
   "source": [
    "# Commande de base pour démarrer"
   ]
  },
  {
   "cell_type": "code",
   "execution_count": 1,
   "metadata": {},
   "outputs": [
    {
     "name": "stdout",
     "output_type": "stream",
     "text": [
      "Hello World !\n"
     ]
    }
   ],
   "source": [
    "print(\"Hello World !\")"
   ]
  },
  {
   "cell_type": "markdown",
   "metadata": {},
   "source": [
    "# Les attributions et créations de variables"
   ]
  },
  {
   "cell_type": "code",
   "execution_count": 2,
   "metadata": {},
   "outputs": [],
   "source": [
    "# Les noms de variable ne peuvent contenir que des lettres majuscules, minuscules et des chiffres."
   ]
  },
  {
   "cell_type": "code",
   "execution_count": 3,
   "metadata": {},
   "outputs": [],
   "source": [
    "ma_variable = \"string\"\n",
    "maVariable2 = 1\n",
    "milliers = 1000.0 # float\n",
    "MonInteger = int(milliers) # converti le float en int"
   ]
  },
  {
   "cell_type": "code",
   "execution_count": 4,
   "metadata": {},
   "outputs": [
    {
     "name": "stdout",
     "output_type": "stream",
     "text": [
      "1000.0\n",
      "1000.0\n",
      "1000\n"
     ]
    }
   ],
   "source": [
    "print(milliers) # affiche le nombre\n",
    "print(str(milliers)) # converti le float en string avant de l'afficher\n",
    "print(MonInteger)"
   ]
  },
  {
   "cell_type": "code",
   "execution_count": 5,
   "metadata": {},
   "outputs": [
    {
     "name": "stdin",
     "output_type": "stream",
     "text": [
      "Press the enter key to exit. 123\n"
     ]
    },
    {
     "name": "stdout",
     "output_type": "stream",
     "text": [
      "123\n"
     ]
    }
   ],
   "source": [
    "MaVariable = input(\"Press the enter key to exit.\") # récupère la saisie de l'utilisateur dans une variable\n",
    "print(MaVariable) # affiche ce que l'utilisateur a saisi"
   ]
  },
  {
   "cell_type": "markdown",
   "metadata": {},
   "source": [
    "# Listes, array, et tuples..."
   ]
  },
  {
   "cell_type": "code",
   "execution_count": 6,
   "metadata": {},
   "outputs": [
    {
     "name": "stdout",
     "output_type": "stream",
     "text": [
      "['et un', 'et deux', 'et trois', 'zéro']\n",
      "et un\n",
      "['et deux', 'et trois']\n",
      "['et trois', 'zéro']\n"
     ]
    }
   ],
   "source": [
    "MaListe = [\"et un\", \"et deux\", \"et trois\", \"zéro\"]\n",
    "print(MaListe) # affiche toute la liste\n",
    "print(MaListe[0]) # affiche le 1er élément de la liste\n",
    "print(MaListe[1:3]) # affiche les 2ème et 3ème éléments de la liste\n",
    "print(MaListe[2:]) # affiche tous les éléments de la liste, à partir de 3ème"
   ]
  },
  {
   "cell_type": "markdown",
   "metadata": {},
   "source": [
    "# Dictionnaires"
   ]
  },
  {
   "cell_type": "code",
   "execution_count": 7,
   "metadata": {},
   "outputs": [],
   "source": [
    "dict = {}\n",
    "dict['one'] = \"Élément 1\"\n",
    "dict[2] = \"Élément 2\""
   ]
  },
  {
   "cell_type": "code",
   "execution_count": 8,
   "metadata": {},
   "outputs": [
    {
     "name": "stdout",
     "output_type": "stream",
     "text": [
      "Élément 1\n",
      "dict_keys(['one', 2])\n",
      "dict_values(['Élément 1', 'Élément 2'])\n"
     ]
    }
   ],
   "source": [
    "print(dict[\"one\"]) # affiche l'élément \"one\" du dictionnaire\n",
    "print(dict.keys()) # affiche toutes les clés existantes dans le dictionnaire\n",
    "print(dict.values()) # affiche toutes les valeurs contenues dans le dictionnaire"
   ]
  },
  {
   "cell_type": "markdown",
   "metadata": {},
   "source": [
    "# Travail avec des fichiers"
   ]
  },
  {
   "cell_type": "code",
   "execution_count": 9,
   "metadata": {},
   "outputs": [
    {
     "name": "stdout",
     "output_type": "stream",
     "text": [
      "Axel\n",
      "\n",
      "Louis\n",
      "\n",
      "Manu\n",
      "\n",
      "Corentin\n",
      "\n",
      "Morgane\n"
     ]
    }
   ],
   "source": [
    "contenu = open(\"maListe.txt\", \"r\")\n",
    "for ligne in contenu:\n",
    "    print(ligne)"
   ]
  },
  {
   "cell_type": "code",
   "execution_count": 10,
   "metadata": {},
   "outputs": [
    {
     "name": "stdout",
     "output_type": "stream",
     "text": [
      "J'ai retrouvé le prof !\n"
     ]
    }
   ],
   "source": [
    "with open(\"maListe.txt\", \"r\", encoding=\"utf-8\") as infile:\n",
    "    for line in infile:\n",
    "        if line.startswith(\"Manu\"):\n",
    "            print(\"J'ai retrouvé le prof !\")"
   ]
  },
  {
   "cell_type": "code",
   "execution_count": 11,
   "metadata": {},
   "outputs": [
    {
     "name": "stdout",
     "output_type": "stream",
     "text": [
      "plus que 9000 !\n"
     ]
    }
   ],
   "source": [
    "var = 9000\n",
    "if (var == 1000):\n",
    "    print(\"La valeur de la variable est 1000.\")\n",
    "\n",
    "if (var < 1200):\n",
    "    print(\"smicard !\")\n",
    "elif (var < 9000):\n",
    "    print(\"average !\")\n",
    "else:\n",
    "    print(\"plus que 9000 !\")"
   ]
  },
  {
   "cell_type": "markdown",
   "metadata": {},
   "source": [
    "# Structure \"for\""
   ]
  },
  {
   "cell_type": "code",
   "execution_count": 12,
   "metadata": {},
   "outputs": [
    {
     "name": "stdout",
     "output_type": "stream",
     "text": [
      "Lettre actuelle :  P\n",
      "Lettre actuelle :  y\n",
      "Lettre actuelle :  t\n",
      "Lettre actuelle :  h\n",
      "Lettre actuelle :  o\n",
      "Lettre actuelle :  n\n"
     ]
    }
   ],
   "source": [
    "for letter in \"Python\":\n",
    "    print(\"Lettre actuelle : \", letter)"
   ]
  },
  {
   "cell_type": "code",
   "execution_count": 13,
   "metadata": {},
   "outputs": [
    {
     "name": "stdout",
     "output_type": "stream",
     "text": [
      "Fruit actuel :  banane\n",
      "Fruit actuel :  pomme\n",
      "Fruit actuel :  mangue\n",
      "C'était bon !\n"
     ]
    }
   ],
   "source": [
    "fruits = [\"banane\", \"pomme\", \"mangue\"]\n",
    "for fruit in fruits:\n",
    "    print(\"Fruit actuel : \", fruit)\n",
    "print(\"C'était bon !\")"
   ]
  },
  {
   "cell_type": "code",
   "execution_count": 15,
   "metadata": {},
   "outputs": [
    {
     "name": "stdout",
     "output_type": "stream",
     "text": [
      "Actuellement :  0\n",
      "Actuellement :  1\n",
      "Actuellement :  2\n",
      "Actuellement :  3\n",
      "Actuellement :  4\n",
      "Actuellement :  5\n",
      "Actuellement :  6\n",
      "Actuellement :  7\n",
      "Actuellement :  8\n",
      "It's the final couuuuuntdoooown ! Du du duuuuu du ... Du du du du duuuuuu...\n"
     ]
    }
   ],
   "source": [
    "count = 0\n",
    "while (count < 9):\n",
    "    print(\"Actuellement : \", count)\n",
    "    count = count + 1\n",
    "print(\"It's the final couuuuuntdoooown ! Du du duuuuu du ... Du du du du duuuuuu...\")"
   ]
  },
  {
   "cell_type": "markdown",
   "metadata": {},
   "source": [
    "# Fonctions"
   ]
  },
  {
   "cell_type": "code",
   "execution_count": 17,
   "metadata": {},
   "outputs": [
    {
     "name": "stdout",
     "output_type": "stream",
     "text": [
      "Bonjour à vous, Coco\n"
     ]
    }
   ],
   "source": [
    "def bonjour_vous(nom):\n",
    "    print(\"Bonjour à vous,\", nom)\n",
    "    return\n",
    "\n",
    "bonjour_vous(\"Coco\")"
   ]
  },
  {
   "cell_type": "code",
   "execution_count": null,
   "metadata": {},
   "outputs": [],
   "source": []
  }
 ],
 "metadata": {
  "kernelspec": {
   "display_name": "Python 3",
   "language": "python",
   "name": "python3"
  },
  "language_info": {
   "codemirror_mode": {
    "name": "ipython",
    "version": 3
   },
   "file_extension": ".py",
   "mimetype": "text/x-python",
   "name": "python",
   "nbconvert_exporter": "python",
   "pygments_lexer": "ipython3",
   "version": "3.8.5"
  }
 },
 "nbformat": 4,
 "nbformat_minor": 4
}
